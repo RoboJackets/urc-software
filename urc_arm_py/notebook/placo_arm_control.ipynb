{
 "cells": [
  {
   "cell_type": "markdown",
   "id": "2cc05b33b1acc9bd",
   "metadata": {},
   "source": [
    "# Placo Arm Control\n",
    "\n",
    "This is a test-purpose control library for walli arm. Instead of directly solving an iterative IK, it formualtes a QP program with multiple targets and constraints, then solves it rapidly with an off-the-shelf solver (eiquadprog).\n",
    "\n",
    "The output of this program is a series of joint position commands, published through a ROS2 publisher in the format of MultiDOFCommands. You may bring up any simulator (e.g. Gazebo with ros2_control configured, or Isaac Sim with the arm imported and omnigraph setted up) to see the robot's end effector in movement. It should draw a \"inf\" sign in the air."
   ]
  },
  {
   "cell_type": "code",
   "execution_count": 72,
   "id": "f36451a3",
   "metadata": {},
   "outputs": [
    {
     "name": "stdout",
     "output_type": "stream",
     "text": [
      "Defaulting to user installation because normal site-packages is not writeable\n",
      "Requirement already satisfied: placo in /home/keseterg/.local/lib/python3.10/site-packages (0.6.3)\n",
      "Requirement already satisfied: cmeel in /home/keseterg/.local/lib/python3.10/site-packages (from placo) (0.53.3)\n",
      "Requirement already satisfied: eiquadprog<2,>=1.2.6 in /home/keseterg/.local/lib/python3.10/site-packages (from placo) (1.2.8)\n",
      "Requirement already satisfied: pin<3,>=2.6.18 in /home/keseterg/.local/lib/python3.10/site-packages (from placo) (2.7.0)\n",
      "Requirement already satisfied: rhoban-cmeel-jsoncpp in /home/keseterg/.local/lib/python3.10/site-packages (from placo) (1.9.4.1)\n",
      "Requirement already satisfied: meshcat in /home/keseterg/.local/lib/python3.10/site-packages (from placo) (0.3.2)\n",
      "Requirement already satisfied: numpy<2 in /home/keseterg/.local/lib/python3.10/site-packages (from placo) (1.26.4)\n",
      "Requirement already satisfied: ischedule in /home/keseterg/.local/lib/python3.10/site-packages (from placo) (1.2.7)\n",
      "Requirement already satisfied: cmeel-boost~=1.83.0 in /home/keseterg/.local/lib/python3.10/site-packages (from eiquadprog<2,>=1.2.6->placo) (1.83.0)\n",
      "Requirement already satisfied: cmeel-urdfdom<4,>=3.1.1.1 in /home/keseterg/.local/lib/python3.10/site-packages (from pin<3,>=2.6.18->placo) (3.1.1.1)\n",
      "Requirement already satisfied: hpp-fcl<4,>=2.3.4 in /home/keseterg/.local/lib/python3.10/site-packages (from pin<3,>=2.6.18->placo) (2.4.4)\n",
      "Requirement already satisfied: tomli<3.0.0,>=2.0.1 in /home/keseterg/.local/lib/python3.10/site-packages (from cmeel->placo) (2.0.1)\n",
      "Requirement already satisfied: ipython>=5 in /home/keseterg/.local/lib/python3.10/site-packages (from meshcat->placo) (8.27.0)\n",
      "Requirement already satisfied: u-msgpack-python>=2.4.1 in /home/keseterg/.local/lib/python3.10/site-packages (from meshcat->placo) (2.8.0)\n",
      "Requirement already satisfied: tornado>=4.0.0 in /home/keseterg/.local/lib/python3.10/site-packages (from meshcat->placo) (6.4.1)\n",
      "Requirement already satisfied: pyzmq>=17.0.0 in /home/keseterg/.local/lib/python3.10/site-packages (from meshcat->placo) (26.2.0)\n",
      "Requirement already satisfied: pyngrok>=4.1.6 in /home/keseterg/.local/lib/python3.10/site-packages (from meshcat->placo) (7.2.0)\n",
      "Requirement already satisfied: pillow>=7.0.0 in /home/keseterg/.local/lib/python3.10/site-packages (from meshcat->placo) (10.4.0)\n",
      "Requirement already satisfied: cmeel-console-bridge in /home/keseterg/.local/lib/python3.10/site-packages (from cmeel-urdfdom<4,>=3.1.1.1->pin<3,>=2.6.18->placo) (1.0.2.2)\n",
      "Requirement already satisfied: cmeel-tinyxml in /home/keseterg/.local/lib/python3.10/site-packages (from cmeel-urdfdom<4,>=3.1.1.1->pin<3,>=2.6.18->placo) (2.6.2.3)\n",
      "Requirement already satisfied: cmeel-assimp<6,>=5.3.1 in /home/keseterg/.local/lib/python3.10/site-packages (from hpp-fcl<4,>=2.3.4->pin<3,>=2.6.18->placo) (5.3.1)\n",
      "Requirement already satisfied: cmeel-octomap<2,>=1.9.8.2 in /home/keseterg/.local/lib/python3.10/site-packages (from hpp-fcl<4,>=2.3.4->pin<3,>=2.6.18->placo) (1.9.8.2)\n",
      "Requirement already satisfied: cmeel-qhull<8.0.3,>=8.0.2.1 in /home/keseterg/.local/lib/python3.10/site-packages (from hpp-fcl<4,>=2.3.4->pin<3,>=2.6.18->placo) (8.0.2.1)\n",
      "Requirement already satisfied: eigenpy<4,>=3.1 in /home/keseterg/.local/lib/python3.10/site-packages (from hpp-fcl<4,>=2.3.4->pin<3,>=2.6.18->placo) (3.5.1)\n",
      "Requirement already satisfied: decorator in /home/keseterg/.local/lib/python3.10/site-packages (from ipython>=5->meshcat->placo) (5.1.1)\n",
      "Requirement already satisfied: jedi>=0.16 in /home/keseterg/.local/lib/python3.10/site-packages (from ipython>=5->meshcat->placo) (0.19.1)\n",
      "Requirement already satisfied: matplotlib-inline in /home/keseterg/.local/lib/python3.10/site-packages (from ipython>=5->meshcat->placo) (0.1.7)\n",
      "Requirement already satisfied: prompt-toolkit<3.1.0,>=3.0.41 in /home/keseterg/.local/lib/python3.10/site-packages (from ipython>=5->meshcat->placo) (3.0.48)\n",
      "Requirement already satisfied: pygments>=2.4.0 in /home/keseterg/.local/lib/python3.10/site-packages (from ipython>=5->meshcat->placo) (2.18.0)\n",
      "Requirement already satisfied: stack-data in /home/keseterg/.local/lib/python3.10/site-packages (from ipython>=5->meshcat->placo) (0.6.3)\n",
      "Requirement already satisfied: traitlets>=5.13.0 in /home/keseterg/.local/lib/python3.10/site-packages (from ipython>=5->meshcat->placo) (5.14.3)\n",
      "Requirement already satisfied: exceptiongroup in /home/keseterg/.local/lib/python3.10/site-packages (from ipython>=5->meshcat->placo) (1.2.2)\n",
      "Requirement already satisfied: typing-extensions>=4.6 in /home/keseterg/.local/lib/python3.10/site-packages (from ipython>=5->meshcat->placo) (4.12.2)\n",
      "Requirement already satisfied: pexpect>4.3 in /home/keseterg/.local/lib/python3.10/site-packages (from ipython>=5->meshcat->placo) (4.9.0)\n",
      "Requirement already satisfied: PyYAML>=5.1 in /home/keseterg/.local/lib/python3.10/site-packages (from pyngrok>=4.1.6->meshcat->placo) (6.0.2)\n",
      "Requirement already satisfied: parso<0.9.0,>=0.8.3 in /home/keseterg/.local/lib/python3.10/site-packages (from jedi>=0.16->ipython>=5->meshcat->placo) (0.8.4)\n",
      "Requirement already satisfied: ptyprocess>=0.5 in /home/keseterg/.local/lib/python3.10/site-packages (from pexpect>4.3->ipython>=5->meshcat->placo) (0.7.0)\n",
      "Requirement already satisfied: wcwidth in /home/keseterg/.local/lib/python3.10/site-packages (from prompt-toolkit<3.1.0,>=3.0.41->ipython>=5->meshcat->placo) (0.2.13)\n",
      "Requirement already satisfied: executing>=1.2.0 in /home/keseterg/.local/lib/python3.10/site-packages (from stack-data->ipython>=5->meshcat->placo) (2.1.0)\n",
      "Requirement already satisfied: asttokens>=2.1.0 in /home/keseterg/.local/lib/python3.10/site-packages (from stack-data->ipython>=5->meshcat->placo) (2.4.1)\n",
      "Requirement already satisfied: pure-eval in /home/keseterg/.local/lib/python3.10/site-packages (from stack-data->ipython>=5->meshcat->placo) (0.2.3)\n",
      "Requirement already satisfied: six>=1.12.0 in /home/keseterg/.local/lib/python3.10/site-packages (from asttokens>=2.1.0->stack-data->ipython>=5->meshcat->placo) (1.16.0)\n",
      "\n",
      "\u001b[1m[\u001b[0m\u001b[34;49mnotice\u001b[0m\u001b[1;39;49m]\u001b[0m\u001b[39;49m A new release of pip is available: \u001b[0m\u001b[31;49m24.3.1\u001b[0m\u001b[39;49m -> \u001b[0m\u001b[32;49m25.0.1\u001b[0m\n",
      "\u001b[1m[\u001b[0m\u001b[34;49mnotice\u001b[0m\u001b[1;39;49m]\u001b[0m\u001b[39;49m To update, run: \u001b[0m\u001b[32;49mpip install --upgrade pip\u001b[0m\n"
     ]
    }
   ],
   "source": [
    "# install requirements\n",
    "!pip install placo"
   ]
  },
  {
   "cell_type": "code",
   "execution_count": 83,
   "id": "initial_id",
   "metadata": {
    "ExecuteTime": {
     "end_time": "2024-09-15T20:45:59.577712Z",
     "start_time": "2024-09-15T20:45:59.084279Z"
    },
    "collapsed": true
   },
   "outputs": [],
   "source": [
    "import placo\n",
    "import time\n",
    "import numpy as np\n",
    "from placo_utils.visualization import robot_frame_viz, robot_viz, frame_viz, point_viz\n",
    "\n",
    "robot = placo.RobotWrapper(\n",
    "    \"/home/keseterg/Documents/RoboJackets/urc_ws/src/urc-software/urc_arm_models/urdf/z1_description/z1.urdf\",\n",
    "    placo.Flags.ignore_collisions\n",
    ")\n",
    "robot.state.q = robot.neutral_state().q\n",
    "viz = robot_viz(robot)"
   ]
  },
  {
   "cell_type": "code",
   "execution_count": 84,
   "id": "c0e35abe",
   "metadata": {},
   "outputs": [],
   "source": [
    "def translation(arr):\n",
    "    return arr[0:3, 3]"
   ]
  },
  {
   "cell_type": "code",
   "execution_count": 85,
   "id": "c2b978f53c4df4cd",
   "metadata": {
    "ExecuteTime": {
     "end_time": "2024-09-15T20:50:59.960376Z",
     "start_time": "2024-09-15T20:50:59.958081Z"
    }
   },
   "outputs": [],
   "source": [
    "solver = placo.KinematicsSolver(robot)\n",
    "solver.mask_fbase(True)\n",
    "\n",
    "pEE = translation(robot.get_T_world_frame(\"link06\"))\n",
    "ee_frame_task = solver.add_position_task(\"link06\", pEE)\n",
    "ee_frame_task.configure(\"frame::ee\", \"soft\", 10.0)"
   ]
  },
  {
   "cell_type": "code",
   "execution_count": 120,
   "id": "8294e20e88b8061",
   "metadata": {},
   "outputs": [
    {
     "name": "stdout",
     "output_type": "stream",
     "text": [
      "* Kinematics Tasks:\n",
      "  * frame::ee [position]\n",
      "    - Priority: soft (weight:10)\n",
      "    - Error: 0.000000 [m]\n",
      "\n"
     ]
    }
   ],
   "source": [
    "point_viz(\"target\", pEE)\n",
    "ee_frame_task.target_world = pEE.copy()\n",
    "solver.dt = 0.01\n",
    "robot.update_kinematics()\n",
    "solver.solve(True)\n",
    "solver.dump_status()\n",
    "robot_frame_viz(robot, \"link06\")\n",
    "viz.display(robot.state.q)"
   ]
  },
  {
   "cell_type": "code",
   "execution_count": 115,
   "id": "3088efa3",
   "metadata": {},
   "outputs": [],
   "source": [
    "pEE[2] += 0.1"
   ]
  }
 ],
 "metadata": {
  "kernelspec": {
   "display_name": "usr",
   "language": "python",
   "name": "python3"
  },
  "language_info": {
   "codemirror_mode": {
    "name": "ipython",
    "version": 3
   },
   "file_extension": ".py",
   "mimetype": "text/x-python",
   "name": "python",
   "nbconvert_exporter": "python",
   "pygments_lexer": "ipython3",
   "version": "3.10.12"
  }
 },
 "nbformat": 4,
 "nbformat_minor": 5
}
